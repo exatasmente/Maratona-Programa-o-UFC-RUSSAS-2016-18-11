{
 "cells": [
  {
   "cell_type": "code",
   "execution_count": 4,
   "metadata": {
    "collapsed": false
   },
   "outputs": [
    {
     "name": "stdout",
     "output_type": "stream",
     "text": [
      "3\n",
      "101 bin\n",
      "101 dec\n",
      "8f hex\n",
      "Case 1:\n",
      "5 dec\n",
      "5 hex\n",
      "\n",
      "Case 2:\n",
      "65 hex\n",
      "1100101 bin\n",
      "\n",
      "Case 3:\n",
      "143 dec\n",
      "10001111 bin\n",
      "\n"
     ]
    }
   ],
   "source": [
    "def dec_bin(n):\n",
    "    return bin(int(n))[2::]\n",
    "def dec_hex(n):\n",
    "    return hex(int(n))[2::]\n",
    "\n",
    "def bin_dec(n):\n",
    "    return int(str(n),2)\n",
    "\n",
    "def bin_hex(n):\n",
    "    return hex(int(str(n),2))[2::]\n",
    "\n",
    "\n",
    "def hex_bin(n):\n",
    "    return bin(int(str(n),16))[2::]\n",
    "def hex_dec(n):\n",
    "    return int(str(n),16)\n",
    "\n",
    "\n",
    "n = int(input())\n",
    "res = list()\n",
    "for x in range(n):\n",
    "    res.append(input())\n",
    "x= 1\n",
    "for val in res:\n",
    "    base = val.split(' ')[1]\n",
    "    num = val.split(' ')[0]\n",
    "    if base == 'hex':\n",
    "        print(\"Case \"+str(x)+\":\")\n",
    "        print(hex_dec(num),\"dec\")\n",
    "        print(hex_bin(num),\"bin\\n\")\n",
    "\n",
    "    elif base == 'dec':\n",
    "        print(\"Case \"+str(x)+\":\")\n",
    "        print(dec_hex(num),\"hex\")\n",
    "        print(dec_bin(num),\"bin\\n\")\n",
    "\n",
    "    elif base == 'bin':\n",
    "        print(\"Case \"+str(x)+\":\")\n",
    "        print(bin_dec(num),\"dec\")\n",
    "        print(bin_hex(num),\"hex\\n\")\n",
    "    x += 1\n",
    "\n",
    "    "
   ]
  },
  {
   "cell_type": "code",
   "execution_count": null,
   "metadata": {
    "collapsed": false
   },
   "outputs": [
    {
     "name": "stdout",
     "output_type": "stream",
     "text": [
      "17\n",
      "9\n"
     ]
    }
   ],
   "source": [
    "def steps(n):\n",
    "    k = n\n",
    "    m = 1\n",
    "    last = 0\n",
    "    cont = 0\n",
    "    while k > 0 :\n",
    "        k = ( k + m )%13\n",
    "        if k == 0:\n",
    "            last = n\n",
    "        cont += 1\n",
    "    return cont\n",
    "    \n",
    "while True:\n",
    "    n = int(input())\n",
    "    if n == 0:\n",
    "        break\n",
    "    print(steps(n))\n"
   ]
  },
  {
   "cell_type": "code",
   "execution_count": 31,
   "metadata": {
    "collapsed": false
   },
   "outputs": [
    {
     "name": "stdout",
     "output_type": "stream",
     "text": [
      "1\n",
      "1001\n",
      "16 leds\n"
     ]
    }
   ],
   "source": [
    "leds = {'0' : 6 , \n",
    "        '1' : 2 , \n",
    "        '2' : 5 , \n",
    "        '3' : 5 , \n",
    "        '4' : 4 , \n",
    "        '5' : 5 , \n",
    "        '6' : 6 , \n",
    "        '7' : 3 , \n",
    "        '8' : 7 , \n",
    "        '9' : 6}\n",
    "        \n",
    "n = int(input())\n",
    "while n > 0:\n",
    "    v = list(input())\n",
    "    qtleds = 0\n",
    "    for x in v:\n",
    "        qtleds += leds[x]\n",
    "        \n",
    "    print(qtleds,\"leds\")\n",
    "    n -= 1\n",
    "    \n"
   ]
  },
  {
   "cell_type": "code",
   "execution_count": 64,
   "metadata": {
    "collapsed": false
   },
   "outputs": [
    {
     "name": "stdout",
     "output_type": "stream",
     "text": [
      "1\n",
      "100 80 90\n",
      "100 80 90\n",
      "1\n"
     ]
    }
   ],
   "source": [
    "n = int(input())\n",
    "while n > 0:\n",
    "    qt = 0\n",
    "    m = input()\n",
    "    nota = [int(x) for x in str(input()).split(' ')]\n",
    "    l = sorted(nota, key=int, reverse=True)\n",
    "    for i in range(len(nota)):\n",
    "        if nota[i] == l[i]:\n",
    "            qt +=1\n",
    "    print(qt)\n",
    "    n -= 1"
   ]
  },
  {
   "cell_type": "code",
   "execution_count": 1,
   "metadata": {
    "collapsed": false
   },
   "outputs": [
    {
     "name": "stdout",
     "output_type": "stream",
     "text": [
      "10\n",
      "10\n",
      "PROD = 20\n"
     ]
    }
   ],
   "source": [
    "print(\"PROD =\",int(input())*int(input()))"
   ]
  },
  {
   "cell_type": "code",
   "execution_count": 9,
   "metadata": {
    "collapsed": false
   },
   "outputs": [
    {
     "name": "stdout",
     "output_type": "stream",
     "text": [
      "10.0\n",
      "10.\n",
      "MEDIA = 10.0\n"
     ]
    }
   ],
   "source": [
    "print(\"MEDIA =\",float((float(input())+float(input()))/2))"
   ]
  },
  {
   "cell_type": "code",
   "execution_count": 25,
   "metadata": {
    "collapsed": false
   },
   "outputs": [
    {
     "name": "stdout",
     "output_type": "stream",
     "text": [
      "1523\n",
      "VOLUME = 14797486501.627\n"
     ]
    }
   ],
   "source": [
    "print(\"VOLUME = %.3f\"%( ( (4.0/3.0) * 3.14159 ) * (float(input())**3)) )\n",
    "\n"
   ]
  },
  {
   "cell_type": "code",
   "execution_count": 33,
   "metadata": {
    "collapsed": false
   },
   "outputs": [
    {
     "name": "stdout",
     "output_type": "stream",
     "text": [
      "217 14 6\n",
      "217 eh o maior\n"
     ]
    }
   ],
   "source": [
    "a,b,c = [int(x) for x in str(input()).split(' ')]\n",
    "if (a+b+abs(a-b))/2 > c :\n",
    "    print(\"%d eh o maior\"%((a+b+abs(a-b))/2))\n",
    "else:\n",
    "    print(\"%d eh o maior\"% c)"
   ]
  },
  {
   "cell_type": "code",
   "execution_count": 40,
   "metadata": {
    "collapsed": false
   },
   "outputs": [
    {
     "name": "stdout",
     "output_type": "stream",
     "text": [
      "10 11 12\n"
     ]
    },
    {
     "ename": "TypeError",
     "evalue": "not enough arguments for format string",
     "output_type": "error",
     "traceback": [
      "\u001b[0;31m---------------------------------------------------------------------------\u001b[0m",
      "\u001b[0;31mTypeError\u001b[0m                                 Traceback (most recent call last)",
      "\u001b[0;32m<ipython-input-40-f7c5820e1d35>\u001b[0m in \u001b[0;36m<module>\u001b[0;34m()\u001b[0m\n\u001b[1;32m      1\u001b[0m \u001b[0ma\u001b[0m\u001b[0;34m,\u001b[0m\u001b[0mb\u001b[0m\u001b[0;34m,\u001b[0m\u001b[0mc\u001b[0m \u001b[0;34m=\u001b[0m \u001b[0;34m[\u001b[0m\u001b[0mint\u001b[0m\u001b[0;34m(\u001b[0m\u001b[0mx\u001b[0m\u001b[0;34m)\u001b[0m \u001b[0;32mfor\u001b[0m \u001b[0mx\u001b[0m \u001b[0;32min\u001b[0m \u001b[0mstr\u001b[0m\u001b[0;34m(\u001b[0m\u001b[0minput\u001b[0m\u001b[0;34m(\u001b[0m\u001b[0;34m)\u001b[0m\u001b[0;34m)\u001b[0m\u001b[0;34m.\u001b[0m\u001b[0msplit\u001b[0m\u001b[0;34m(\u001b[0m\u001b[0;34m' '\u001b[0m\u001b[0;34m)\u001b[0m\u001b[0;34m]\u001b[0m\u001b[0;34m\u001b[0m\u001b[0m\n\u001b[1;32m      2\u001b[0m \u001b[0;34m\u001b[0m\u001b[0m\n\u001b[0;32m----> 3\u001b[0;31m \u001b[0mprint\u001b[0m\u001b[0;34m(\u001b[0m\u001b[0;34m\"%d\\n%d\\n%d\"\u001b[0m\u001b[0;34m%\u001b[0m\u001b[0ma\u001b[0m \u001b[0;34m%\u001b[0m\u001b[0mb\u001b[0m \u001b[0;34m%\u001b[0m\u001b[0mc\u001b[0m\u001b[0;34m)\u001b[0m\u001b[0;34m\u001b[0m\u001b[0m\n\u001b[0m",
      "\u001b[0;31mTypeError\u001b[0m: not enough arguments for format string"
     ]
    }
   ],
   "source": [
    "a,b,c = [int(x) for x in str(input()).split(' ')]\n",
    "\n",
    "print(\"%d\\n%d\\n%d\"%a %b %c)"
   ]
  },
  {
   "cell_type": "code",
   "execution_count": 98,
   "metadata": {
    "collapsed": false
   },
   "outputs": [
    {
     "name": "stdout",
     "output_type": "stream",
     "text": [
      "10 10 10 10\n",
      "0:00:00\n",
      "O JOGO DUROU 24.000000 HORA(S) E 0.000000 MINUTO(S)\n"
     ]
    }
   ],
   "source": [
    "from datetime import datetime\n",
    "h1,m1,h2,m2 = [x for x in str(input()).split(' ')]\n",
    "\n",
    "\n",
    "ti = datetime.strptime((h1+\":\"+m1), '%H:%M')\n",
    "tf = datetime.strptime((h2+\":\"+m2), '%H:%M')\n",
    "print((tf-ti))\n",
    "h = 0\n",
    "m = 0\n",
    "if str(tf-ti) == \"0:00:00\":\n",
    "    h = 24\n",
    "    m = 0\n",
    "\n",
    "print(\"O JOGO DUROU %d HORA(S)\"%h,\"E %d MINUTO(S)\"%m)"
   ]
  },
  {
   "cell_type": "code",
   "execution_count": 105,
   "metadata": {
    "collapsed": false
   },
   "outputs": [
    {
     "name": "stdout",
     "output_type": "stream",
     "text": [
      "1\n",
      "0 1\n",
      "P.Y.N.G.\n"
     ]
    }
   ],
   "source": [
    "mus ={0 :\"PROXYCITY\",\n",
    "      1 : \"P.Y.N.G.\",\n",
    "      2 : \"DNSUEY!\",\n",
    "      3 : \"SERVERS\",\n",
    "      4 : \"HOST!\",\n",
    "      5 : \"CRIPTONIZE\",\n",
    "      6 : \"OFFLINE DAY\",\n",
    "      7 : \"SALT\",\n",
    "      8 : \"ANSWER!\",\n",
    "      9 : \"RAR?\",\n",
    "      10 : \"WIFI ANTENNAS\"}\n",
    "\n",
    "n = int(input())\n",
    "while n > 0:\n",
    "    a,b,*c = [x for x in str(input()).split(' ')]\n",
    "    print(mus[int(a)+int(b)])\n",
    "    n -= 1"
   ]
  },
  {
   "cell_type": "code",
   "execution_count": 112,
   "metadata": {
    "collapsed": false
   },
   "outputs": [
    {
     "name": "stdout",
     "output_type": "stream",
     "text": [
      "1\n",
      "3\n",
      "* * 6 5\n",
      "*\n",
      "3\n"
     ]
    }
   ],
   "source": [
    "n = int(input())\n",
    "dado = {1:[\" \",6],\n",
    "        2:[\" \",5],\n",
    "        3:[\" \",4],\n",
    "        4:[\" \",3],\n",
    "        5:[\" \",2],\n",
    "        6:[\" \",1]}\n",
    "while n > 0 :\n",
    "    pos = 0\n",
    "    dado[3][0] = input()\n",
    "    dado[1][0],dado[2][0],dado[6][0],dado[5][0] = [x for x in str(input()).split(' ')]\n",
    "    dado[4][0] = input()\n",
    "    \n",
    "    for x in dado:\n",
    "        if dado[x][0] == '*':\n",
    "            pos +=1\n",
    "            if dado[dado[x][1]] == '*':\n",
    "                pos+=1\n",
    "    n -= 1\n",
    "    print(pos)\n",
    "\n"
   ]
  },
  {
   "cell_type": "code",
   "execution_count": 143,
   "metadata": {
    "collapsed": false
   },
   "outputs": [
    {
     "name": "stdout",
     "output_type": "stream",
     "text": [
      "10\n",
      "1\n",
      "1 nao eh primo\n",
      "2\n",
      "2 eh primo\n",
      "3\n",
      "3 eh primo\n",
      "4\n",
      "4 nao eh primo\n",
      "5\n",
      "5 eh primo\n",
      "6\n",
      "6 nao eh primo\n",
      "161\n",
      "161 nao eh primo\n",
      "1000\n",
      "1000 nao eh primo\n",
      "234\n",
      "234 nao eh primo\n",
      "243567\n",
      "243567 nao eh primo\n"
     ]
    }
   ],
   "source": [
    "n = int(input())\n",
    "def gen_primes():\n",
    "    n = 2\n",
    "    primes = set()\n",
    "    while True:\n",
    "        for p in primes:\n",
    "            if n % p == 0:\n",
    "                break\n",
    "        else:\n",
    "            primes.add(n)\n",
    "            yield n\n",
    "        n += 1\n",
    "        \n",
    "p = gen_primes()\n",
    "def ehprimo(n,m):\n",
    "    if n < 2:\n",
    "        return str(n)+\" nao eh primo\"\n",
    "    if n in [2,3,5,7,11]:\n",
    "        return str(n)+\" eh primo\"\n",
    "    \n",
    "    div = n//m\n",
    "    res = n%m\n",
    "    if res == 0:\n",
    "        return str(n)+\" nao eh primo\"\n",
    "    if div > m :\n",
    "        return ehprimo(n,next(p))\n",
    "    else:\n",
    "        return str(n)+\" eh primo\"\n",
    "while n > 0:\n",
    "    x = int(input())\n",
    "    p = gen_primes()    \n",
    "    print(ehprimo(x,next(p)))\n",
    "    n -= 1"
   ]
  },
  {
   "cell_type": "code",
   "execution_count": 145,
   "metadata": {
    "collapsed": false
   },
   "outputs": [
    {
     "name": "stdout",
     "output_type": "stream",
     "text": [
      "7\n",
      "8\n",
      "1\n",
      "1\n",
      "1\n",
      "4\n",
      "MUITO OBRIGADO\n",
      "Alcool: 3\n",
      "Gasolina: 0\n",
      "Diesel: 0\n"
     ]
    }
   ],
   "source": [
    "n = -1\n",
    "tipos = {1:0,2:0,3:0}\n",
    "while n != 4:\n",
    "    n = int(input())\n",
    "    if n < 4:\n",
    "        tipos[n] += 1\n",
    "    \n",
    "print(\"MUITO OBRIGADO\")\n",
    "print(\"Alcool:\",tipos[1])\n",
    "print(\"Gasolina:\",tipos[2])\n",
    "print(\"Diesel:\",tipos[3])"
   ]
  },
  {
   "cell_type": "code",
   "execution_count": 156,
   "metadata": {
    "collapsed": false
   },
   "outputs": [
    {
     "name": "stdout",
     "output_type": "stream",
     "text": [
      "7\n",
      "1 2 3 PUM\n",
      "5 6 7 PUM\n",
      "9 10 11 PUM\n",
      "13 14 15 PUM\n",
      "17 18 19 PUM\n",
      "21 22 23 PUM\n",
      "25 26 27 PUM\n"
     ]
    }
   ],
   "source": [
    "n = int(input())\n",
    "\n",
    "    \n",
    "i = 1\n",
    "f = 4\n",
    "while n > 0 :\n",
    "    \n",
    "    p = [x for x in range(i,f)]\n",
    "    i = f+1\n",
    "    f = f+4\n",
    "    print(p[0],p[1],p[2],\"PUM\")    \n",
    "    n -= 1"
   ]
  },
  {
   "cell_type": "code",
   "execution_count": 171,
   "metadata": {
    "collapsed": false
   },
   "outputs": [
    {
     "name": "stdout",
     "output_type": "stream",
     "text": [
      "3\n",
      "259 111\n",
      "37\n",
      "9 27\n",
      "9\n",
      "8 12\n",
      "4\n"
     ]
    }
   ],
   "source": [
    "c = int(input())\n",
    "while c > 0:\n",
    "    n,m = [int(x) for x in str(input()).split(' ')]\n",
    "    divisor  = max([m,n]) \n",
    "    while divisor >= 2:\n",
    "        if n % divisor == 0 and m % divisor == 0:\n",
    "            mdc = divisor\n",
    "            break\n",
    "        divisor -= 1 \n",
    "    print(mdc)\n",
    "    c -= 1"
   ]
  },
  {
   "cell_type": "code",
   "execution_count": 3,
   "metadata": {
    "collapsed": false
   },
   "outputs": [
    {
     "name": "stdout",
     "output_type": "stream",
     "text": [
      "11\n",
      "Sao Paulo\n"
     ]
    }
   ],
   "source": [
    "ddd = {61:\"Brasilia\",\n",
    "       71:\"Salvador\",\n",
    "       11:\"Sao Paulo\",\n",
    "       21:\"Rio de Janeiro\",\n",
    "       32:\"Juiz de Fora\",\n",
    "       19:\"Campinas\",\n",
    "       27:\"Vitoria\",\n",
    "       31:\"Belo Horizonte\"\n",
    "      }\n",
    "a= int(input())\n",
    "if a in ddd:\n",
    "    print(ddd[a])\n",
    "else:\n",
    "    print(\"DDD nao cadastrado\")"
   ]
  },
  {
   "cell_type": "code",
   "execution_count": 14,
   "metadata": {
    "collapsed": false
   },
   "outputs": [
    {
     "name": "stdout",
     "output_type": "stream",
     "text": [
      "vertebrado\n",
      "ave\n",
      "carnivoro\n",
      "aguia\n"
     ]
    }
   ],
   "source": [
    "animais = {\n",
    "            \"vertebrado\":{\n",
    "                            \"ave\":{\"carnivoro\":\"aguia\",\"onivoro\":\"pomba\"},\n",
    "                            \"mamifero\":{\"onivoro\":\"homem\",\"herbivoro\":\"vaca\"}\n",
    "                         },\n",
    "            \"invertebrado\":{\n",
    "                            \"inseto\":{\"hematofago\":\"pulga\",\"herbivoro\":\"largata\"},\n",
    "                            \"anelideo\":{\"hematofago\":\"sanguessuga\",\"onivoro\":\"minhoca\"}\n",
    "                           }\n",
    "          }\n",
    "\n",
    "\n",
    "\n",
    "a = str(input())\n",
    "b = str(input())\n",
    "c = str(input())\n",
    "print(animais[a][b][c])"
   ]
  },
  {
   "cell_type": "code",
   "execution_count": 10,
   "metadata": {
    "collapsed": false
   },
   "outputs": [
    {
     "ename": "SyntaxError",
     "evalue": "invalid syntax (<ipython-input-10-16d44faf6a46>, line 1)",
     "output_type": "error",
     "traceback": [
      "\u001b[0;36m  File \u001b[0;32m\"<ipython-input-10-16d44faf6a46>\"\u001b[0;36m, line \u001b[0;32m1\u001b[0m\n\u001b[0;31m    https://urionlinejudge.r.worldssl.net/gallery/images/problems/UOJ_1049_b.png\u001b[0m\n\u001b[0m         ^\u001b[0m\n\u001b[0;31mSyntaxError\u001b[0m\u001b[0;31m:\u001b[0m invalid syntax\n"
     ]
    }
   ],
   "source": [
    "https://urionlinejudge.r.worldssl.net/gallery/images/problems/UOJ_1049_b.png"
   ]
  },
  {
   "cell_type": "code",
   "execution_count": 16,
   "metadata": {
    "collapsed": false
   },
   "outputs": [
    {
     "name": "stdout",
     "output_type": "stream",
     "text": [
      "4\n",
      "April\n"
     ]
    }
   ],
   "source": [
    "meses = {1:\"January\",\n",
    "         2:\"February\",\n",
    "         3:\"March\",\n",
    "         4:\"April\",\n",
    "         5:\"May\",\n",
    "         6:\"June\",\n",
    "         7:\"July\",\n",
    "         8:\"August\",\n",
    "         9:\"September\",\n",
    "         10:\"October\",\n",
    "         11:\"November\",\n",
    "         12:\"December\"\n",
    "        }\n",
    "\n",
    "print(meses[int(input())])"
   ]
  },
  {
   "cell_type": "code",
   "execution_count": 26,
   "metadata": {
    "collapsed": false
   },
   "outputs": [
    {
     "name": "stdout",
     "output_type": "stream",
     "text": [
      "12\n",
      "12\n",
      "0\n"
     ]
    }
   ],
   "source": [
    "a = int(input())\n",
    "b = int(input())\n",
    "if b > a:\n",
    "    x = sum([i for i in range(a+1,b) if i %2 != 0])\n",
    "else:\n",
    "    x = sum([i for i in range(b+1,a) if i %2 != 0])\n",
    "print(x)"
   ]
  },
  {
   "cell_type": "code",
   "execution_count": 23,
   "metadata": {
    "collapsed": false
   },
   "outputs": [
    {
     "name": "stdout",
     "output_type": "stream",
     "text": [
      "[-5, -3, -1, 1, 3, 5]\n"
     ]
    }
   ],
   "source": [
    "x = [i for i in range(-5,6) if i %2 != 0]\n",
    "print(x)"
   ]
  },
  {
   "cell_type": "code",
   "execution_count": 34,
   "metadata": {
    "collapsed": false
   },
   "outputs": [
    {
     "name": "stdout",
     "output_type": "stream",
     "text": [
      "1\n",
      "  u    r i  o    n l  i    n  e \n",
      " \n"
     ]
    }
   ],
   "source": [
    "n = int(input())\n",
    "while n > 0:\n",
    "    s = str(input())\n",
    "    if s == ' ':\n",
    "        print(s)\n",
    "    else:\n",
    "        s.replace(' ','+')\n",
    "        s = [x for x in s.split('+')]\n",
    "        p=str()\n",
    "        for x in s:\n",
    "            if x[0] != '+':\n",
    "                p = p+x[0]\n",
    "        print(p)\n",
    "        \n",
    "    \n",
    "    n -= 1"
   ]
  },
  {
   "cell_type": "code",
   "execution_count": 16,
   "metadata": {
    "collapsed": false
   },
   "outputs": [
    {
     "name": "stdout",
     "output_type": "stream",
     "text": [
      "10\n",
      "10\n",
      "9\n",
      "8\n",
      "7\n",
      "6\n",
      "5\n",
      "4\n",
      "3\n",
      "2\n",
      "1\n",
      "2\n",
      "4\n",
      "6\n",
      "8\n",
      "10\n",
      "9\n",
      "7\n",
      "5\n",
      "3\n",
      "1\n"
     ]
    }
   ],
   "source": [
    "val = list()\n",
    "for _ in range(int(input())):\n",
    "    val.append(int(input()))\n",
    "\n",
    "pares = [x for x in val if x%2 == 0]\n",
    "\n",
    "impares = [x for x in val if x%2 != 0]\n",
    "pares.sort()\n",
    "impares.sort(reverse=True)\n",
    "\n",
    "for x in pares+impares:\n",
    "    print(x)"
   ]
  },
  {
   "cell_type": "code",
   "execution_count": 21,
   "metadata": {
    "collapsed": false
   },
   "outputs": [
    {
     "name": "stdout",
     "output_type": "stream",
     "text": [
      "1\n",
      "I ENIL SIHTHSIREBBIG S\n",
      "THIS LINE IS GIBBERISH\n"
     ]
    }
   ],
   "source": [
    "n = int(input())\n",
    "while n > 0:\n",
    "    p = str(input())\n",
    "    left,right = p[:len(p)//2],p[(len(p)//2):]\n",
    "    left,right = left[::-1], right[::-1]\n",
    "    print(left+right)\n",
    "    n -= 1"
   ]
  },
  {
   "cell_type": "code",
   "execution_count": 73,
   "metadata": {
    "collapsed": false
   },
   "outputs": [
    {
     "name": "stdout",
     "output_type": "stream",
     "text": [
      "3\n",
      "123321\n",
      "Not Prime\n",
      "103\n",
      "Prime\n",
      "123\n",
      "Not Prime\n"
     ]
    }
   ],
   "source": [
    "n = int(input())\n",
    "primes = set()\n",
    "def gen_primes():\n",
    "    n = 2\n",
    "    while True:\n",
    "        for p in primes:\n",
    "            if n % p == 0:\n",
    "                break\n",
    "        else:\n",
    "            primes.add(n)\n",
    "            yield n\n",
    "        if n%2 == 0:\n",
    "            n += 1\n",
    "        else:\n",
    "            n += 2\n",
    "            \n",
    "p = gen_primes()            \n",
    "for _ in range(300):\n",
    "    next(p)\n",
    "    \n",
    "while n > 0:\n",
    "    x = int(input())\n",
    "    for m in primes:\n",
    "        div = x//m\n",
    "        res = x%m\n",
    "        if res == 0:\n",
    "            print(\"Not Prime\")\n",
    "            break\n",
    "        if div > m:\n",
    "            pass\n",
    "        else:\n",
    "            print(\"Prime\")\n",
    "            break\n",
    "        \n",
    "\n",
    "        n -= 1"
   ]
  },
  {
   "cell_type": "code",
   "execution_count": 77,
   "metadata": {
    "collapsed": false
   },
   "outputs": [
    {
     "name": "stdout",
     "output_type": "stream",
     "text": [
      "2 2 2 2\n",
      "5\n"
     ]
    }
   ],
   "source": [
    "\n",
    "print((sum([int(x) for x in str(input()).split(' ')]))-3)\n",
    "\n"
   ]
  },
  {
   "cell_type": "code",
   "execution_count": 16,
   "metadata": {
    "collapsed": false
   },
   "outputs": [
    {
     "name": "stdout",
     "output_type": "stream",
     "text": [
      "1 1\n",
      "asd\n",
      "asd\n",
      "asd\n",
      "asd\n"
     ]
    }
   ],
   "source": [
    "\n",
    "\n",
    "c,n = [int(x) for x in str(input()).split(' ')]\n",
    "chavea = str(input())\n",
    "chaveb = str(input())\n",
    "chavea = chavea.lower()\n",
    "chaveb = chaveb.lower()\n",
    "while n > 0:\n",
    "    msg  = str(input())\n",
    "    for i in range(len(chavea)):\n",
    "        msg = msg.replace(chavea[i],chaveb[i])\n",
    "    print(msg)\n",
    "\n",
    "    n -= 1"
   ]
  },
  {
   "cell_type": "code",
   "execution_count": 30,
   "metadata": {
    "collapsed": false
   },
   "outputs": [
    {
     "name": "stdout",
     "output_type": "stream",
     "text": [
      "a+(b*c)-2-a\n",
      "correct\n",
      "(a+b*(2-c)-2+a)*2\n",
      "correct\n",
      "(a*b-(2+c)\n",
      "incorrect\n",
      "2*(3-a))\n",
      "incorrect\n",
      ")3+b*(2-c)(\n",
      "incorrect\n"
     ]
    }
   ],
   "source": [
    "while True:\n",
    "    try:\n",
    "        a = str(input())\n",
    "        oc = [x for x in range(len(a)) if a[x] == '(']\n",
    "        cc = [x for x in range(len(a)) if a[x] == ')']\n",
    "        if cc[0] < oc[0] or len(cc) != len(oc):\n",
    "            print(\"incorrect\")\n",
    "        else:\n",
    "            c = 0\n",
    "            for x in range(len(cc)):\n",
    "                if cc[x] < oc[x]:\n",
    "                    c= 1\n",
    "                    break\n",
    "            if c == 1:\n",
    "                print(\"incorrect\")\n",
    "            else:\n",
    "                print(\"correct\")\n",
    "    except:\n",
    "\n",
    "        break"
   ]
  },
  {
   "cell_type": "code",
   "execution_count": 12,
   "metadata": {
    "collapsed": false
   },
   "outputs": [
    {
     "name": "stdout",
     "output_type": "stream",
     "text": [
      "0\n"
     ]
    }
   ],
   "source": [
    "n = int(input())\n",
    "\n",
    "while n > 0 :\n",
    "    en = str(input())\n",
    "    \n",
    "    inicio = [x for x in range(len(en)) if en[x] == '<']\n",
    "    fim = [x for x in range(len(en)) if en[x] == '>']\n",
    "    if len(inicio) == len (fim):\n",
    "        i =0\n",
    "        j = 0\n",
    "        mina = en.copy()\n",
    "        while i < len(fim):\n",
    "            \n",
    "            for x in range(inicio[i]+1,fim[i]):\n",
    "                if mina[x] != '.':\n",
    "                    break\n",
    "                else:\n",
    "                    mina.remove(mina[x])\n",
    "            i += 1\n",
    "        \n",
    "    \n",
    "    \n",
    "\n",
    "    n -= 1"
   ]
  },
  {
   "cell_type": "code",
   "execution_count": 14,
   "metadata": {
    "collapsed": false
   },
   "outputs": [
    {
     "name": "stdout",
     "output_type": "stream",
     "text": [
      "7\n",
      "Discarded cards: 1, 3, 5, 7, 4, 2\n",
      "Remaining card: 6\n",
      "0\n"
     ]
    }
   ],
   "source": [
    "\n",
    "n = int(input())\n",
    "while n != 0:\n",
    "    \n",
    "    pilha = [x for x in range(n,0,-1)]\n",
    "    discart = str()\n",
    "    while len(pilha) > 1:\n",
    "        discart = discart + str(' '+str(pilha.pop())+',')\n",
    "        pilha.insert(0,pilha.pop())\n",
    "        \n",
    "        \n",
    "    \n",
    "    print(\"Discarded cards:\"+discart[:-1])\n",
    "    print(\"Remaining card:\",pilha[0])\n",
    "\n",
    "\n",
    "    \n",
    "    n = int(input())"
   ]
  },
  {
   "cell_type": "code",
   "execution_count": 16,
   "metadata": {
    "collapsed": false
   },
   "outputs": [
    {
     "name": "stdout",
     "output_type": "stream",
     "text": [
      "SBS\n",
      "['S', 'B', 'S']\n"
     ]
    }
   ],
   "source": [
    "\n",
    "while True:\n",
    "    try:\n",
    "        fita = list(input())\n",
    "        print(fita)\n",
    "        \n",
    "        \n",
    "    except:\n",
    "        break\n",
    "        \n"
   ]
  },
  {
   "cell_type": "code",
   "execution_count": 124,
   "metadata": {
    "collapsed": false
   },
   "outputs": [
    {
     "ename": "IndentationError",
     "evalue": "expected an indented block (<ipython-input-124-461129b1e594>, line 25)",
     "output_type": "error",
     "traceback": [
      "\u001b[0;36m  File \u001b[0;32m\"<ipython-input-124-461129b1e594>\"\u001b[0;36m, line \u001b[0;32m25\u001b[0m\n\u001b[0;31m    pessoas.append()\u001b[0m\n\u001b[0m    ^\u001b[0m\n\u001b[0;31mIndentationError\u001b[0m\u001b[0;31m:\u001b[0m expected an indented block\n"
     ]
    }
   ],
   "source": [
    "n = int(input())\n",
    "l = {'vermelho':1,'branco':0,'P':1,'M':2,'G':3}\n",
    "le = {1:'vermelho',0:'branco'}\n",
    "lp = {1:'P',2:'M',3:'G'}\n",
    "while n != 0 :\n",
    "    pessoas = []\n",
    "    ie = 0\n",
    "    while n > 0:\n",
    "        nome = str(input())\n",
    "        cor,tam = [x for x in str(input()).split(' ')]\n",
    "        \n",
    "        pessoas.append((l[cor],l[tam],nome))\n",
    "    \n",
    "        n -=1\n",
    "    s1 = sorted(pessoas, key=lambda pessoas : pessoas[2])\n",
    "    s2 = sorted(s1, key=lambda s1 : s1[1])\n",
    "    pessoas= sorted(s2, key=lambda s2 : s2[0])\n",
    "\n",
    "    for x in pessoas:\n",
    "        print(le[x[0]],lp[x[1]],x[2])\n",
    "\n",
    "    n = int(input())\n",
    "    if n != 0:\n",
    "    \tprint(\"\")"
   ]
  },
  {
   "cell_type": "code",
   "execution_count": 33,
   "metadata": {
    "collapsed": false
   },
   "outputs": [
    {
     "name": "stdout",
     "output_type": "stream",
     "text": [
      "1\n",
      "2\n",
      "mamao 4.20\n",
      "uva 3.10\n",
      "1\n",
      "mamao 3\n",
      "R$ 12.60\n"
     ]
    }
   ],
   "source": [
    "n = int(input())\n",
    "\n",
    "while n > 0 :\n",
    "    produtos = dict()\n",
    "    compra = 0\n",
    "    m = int(input())\n",
    "    while m > 0:\n",
    "        nome,preco = [x for x in str(input()).split(' ')]\n",
    "        produtos[nome] = float(preco)\n",
    "        m -= 1\n",
    "    m = int(input())\n",
    "    while m > 0:\n",
    "        nome,qt = [x for x in str(input()).split(' ')]\n",
    "        compra += produtos[nome]*int(qt)\n",
    "        m -= 1\n",
    "        \n",
    "    print(\"R$ %.2f\"%compra)\n",
    "    n -=1"
   ]
  },
  {
   "cell_type": "code",
   "execution_count": 56,
   "metadata": {
    "collapsed": false
   },
   "outputs": [
    {
     "name": "stdout",
     "output_type": "stream",
     "text": [
      "1\n",
      "aaaa\n",
      "bbbb\n",
      "\n",
      "\n",
      " 66.6667\n",
      "bbbb 33.3333\n"
     ]
    }
   ],
   "source": [
    "n = int(input())\n",
    "_ = input()\n",
    "\n",
    "while n > 0:\n",
    "    arvores = dict()\n",
    "    \n",
    "    c=0\n",
    "    while True:\n",
    "        try:\n",
    "            a = str(input())\n",
    "            if len(a) > 1:\n",
    "                if a in arvores:\n",
    "                    arvores[a] += 1\n",
    "                else:\n",
    "                    arvores[a] = 1\n",
    "                c +=1\n",
    "            else:\n",
    "                break\n",
    "                \n",
    "        except:\n",
    "            break\n",
    "    nomes = list(arvores)\n",
    "    nomes.sort()\n",
    "    \n",
    "    for x in nomes:\n",
    "        val = (int(arvores[x])/c)*100\n",
    "        print(x,\"%.4f\"%val)\n",
    "    if(n > 1):\n",
    "        print(\"\")    \n",
    "    n -= 1\n",
    "    \n",
    "    \n",
    "    "
   ]
  },
  {
   "cell_type": "code",
   "execution_count": 57,
   "metadata": {
    "collapsed": false
   },
   "outputs": [
    {
     "name": "stdout",
     "output_type": "stream",
     "text": [
      "1\n",
      "4 3\n",
      "galaxy\n",
      "cara tossiu\n",
      "kagayaku\n",
      "canalha do\n",
      "atsuki\n",
      "alto que\n",
      "yuushi\n",
      "util\n",
      "o galaxy\n",
      "o galaxy\n",
      "o kagayaku atsuki yuushi\n",
      "o cara tossiuo cara tossiuo canalha do alto que util\n"
     ]
    }
   ],
   "source": [
    "t = int(input())\n",
    "c = int(input())\n",
    "for i in range(c):\n",
    "    lista = {}\n",
    "    z = [int(j) for j in input().split()]\n",
    "    for j in range(z[0]):\n",
    "        jap = input()\n",
    "        ptbr=input()\n",
    "        lista[jap]=ptbr\n",
    "    for j in range(z[1]):\n",
    "        x=input().split()\n",
    "        for k in range(len(x)):\n",
    "            if(x[k] in lista):\n",
    "                x[k]=lista[x[k]]\n",
    "        print(\" \".join(x))\n",
    "    print()\n",
    "while t >0:\n",
    "    dic = dict()\n",
    "    musica = list()\n",
    "    n,m = [int(x) for x in str(input()).split(' ')]\n",
    "    while n*2 > 0:\n",
    "        j = str(input())\n",
    "        dic[j] = str(input())\n",
    "        n -= 1\n",
    "    while m > 0:\n",
    "        mu = str(input()).split()\n",
    "        for x in range(len(mu)):\n",
    "            if mu[x] in dic:\n",
    "                mu[x] = dic[mu[x]]\n",
    "        musica.append(mu)\n",
    "        m -= 1\n",
    "    for mus in musica:\n",
    "        print(mus)\n",
    "    print(\"\")\n",
    "    t -= 1\n",
    "    \n",
    "    "
   ]
  },
  {
   "cell_type": "code",
   "execution_count": 3,
   "metadata": {
    "collapsed": false
   },
   "outputs": [],
   "source": [
    "dic = {\"brasil\":\"Feliz Natal!\",\n",
    "       \"alemanha\":\"Frohliche Weihnachten!\",\n",
    "       \"austria\":\"Frohe Weihnacht!\",\n",
    "       \"coreia\":\"Chuk Sung Tan!\",\n",
    "       \"espanha\":\"Feliz Navidad!\",\n",
    "       \"grecia\":\"Kala Christougena!\",\n",
    "       \"estados-unidos\":\"Merry Christmas!\",\n",
    "       \"inglaterra\":\"Merry Christmas!\",\n",
    "       \"australia\":\"Merry Christmas!\",\n",
    "       \"portugal\":\"Feliz Natal!\",\n",
    "       \"suecia\":\"God Jul!\",\n",
    "       \"turquia\":\"Mutlu Noeller\",\n",
    "       \"argentina\":\"Feliz Navidad!\",\n",
    "       \"chile\":\"Feliz Navidad!\",\n",
    "       \"mexico\":\"Feliz Navidad!\",\n",
    "       \"antardida\":\"Merry Christmas!\",\n",
    "       \"canada\":\"Merry Christmas!\",\n",
    "       \"irlanda\":\"Nollaig Shona Dhuit!\",\n",
    "       \"belgica\":\"Zalig Kerstfeest!\",\n",
    "       \"italia\":\"Buon Natale!\",\n",
    "       \"libia\":\"Buon Natale!\",\n",
    "       \"siria\":\"Milad Mubarak!\",\n",
    "       \"marrocos\":\"Milad Mubarak!\",\n",
    "       \"japao\":\"Merii Kurisumasu!\"\n",
    "      }\n",
    "while True:\n",
    "    try:\n",
    "        a = str(input())\n",
    "        if a in dic:\n",
    "            print(dic[a])\n",
    "        else:\n",
    "            print(\"--- NOT FOUND ---\")\n",
    "    except:\n",
    "        break"
   ]
  },
  {
   "cell_type": "code",
   "execution_count": null,
   "metadata": {
    "collapsed": false
   },
   "outputs": [],
   "source": [
    "    class G:\n",
    "    def __init__(self,a):\n",
    "        self.a = a\n",
    "        self.arestas = dict()\n",
    "        self.h = False\n",
    "        self.v = False\n",
    "\n",
    "grafo = dict()\n",
    "\n",
    "\n",
    "\n",
    "\n",
    "n = int(input())\n",
    "for x in range(1,n+1):\n",
    "    grafo[x] = G(x)\n",
    "h = [int(x) for x in str(input()).split(' ') ]\n",
    "\n",
    "for x in h[1:]:\n",
    "    grafo[x].h = True\n",
    "    \n",
    "    \n",
    "for _ in range(int(input())):\n",
    "    a,b,t = [int(x) for x in str(input()).split(' ')]\n",
    "    grafo[a].arestas[b] = (grafo[b],t)\n",
    "\n",
    "\n",
    "busca(grafo[1],grafo[n])\n",
    "\n",
    "def busca(inicio,fim):\n",
    "    pilha  = list()\n",
    "    pilha.append(inicio.arestas)\n",
    "    caminhos = dict()\n",
    "    c = 1\n",
    "    while len(pilha) > 0:\n",
    "        atual = pilha.pop()\n",
    "        caminhos[c] = grafo[atual]\n",
    "        if grafo[atual] == fim:\n",
    "            c +=1\n",
    "        if len(grafo[atual].arestas) > 0 :\n",
    "            pilha.append(atual.arestas)\n",
    "    print(caminhos)    "
   ]
  },
  {
   "cell_type": "code",
   "execution_count": 132,
   "metadata": {
    "collapsed": false
   },
   "outputs": [
    {
     "name": "stdout",
     "output_type": "stream",
     "text": [
      "100 50\n",
      "2 8 3 4 8 1 2 2 8 3 4 8 1 2 2 8 3 4 8 1 2 2 8 3 4 8 1 2 2 8 3 4 8 1 2 2 8 3 4 8 1 2 2 8 3 4 8 1 2 2 8 3 4 8 1 2 2 8 3 4 8 1 2 2 8 3 4 8 1 2 2 8 3 4 8 1 2 2 8 3 4 8 1 2 2 8 3 4 8 1 2 2 8 3 4 8 1 2 2 8 3\n",
      "9743\n"
     ]
    }
   ],
   "source": [
    "while True:\n",
    "    try:\n",
    "        n,b = [int(x) for x in str(input()).split(' ')]        \n",
    "        notas = [int(x) for x in str(input()).split(' ')]\n",
    "        nota = 0\n",
    "        i = 0\n",
    "        if(n != b):\n",
    "            end = n-b+1\n",
    "            while i < end:\n",
    "                nota += sum(notas[i:b])-(max(notas[i:b])+min(notas[i:b]))\n",
    "                i +=1\n",
    "                b +=1\n",
    "        else:\n",
    "            nota = sum(notas)-(max(notas)+min(notas))\n",
    "        print(nota)\n",
    "    except :\n",
    "        break"
   ]
  },
  {
   "cell_type": "code",
   "execution_count": 116,
   "metadata": {
    "collapsed": false
   },
   "outputs": [
    {
     "name": "stdout",
     "output_type": "stream",
     "text": [
      "3\n",
      "<...<<..>>....>....>>>.\n",
      "3\n",
      " <..><.<..>>\n",
      "3\n",
      "<<<..<......<<<<....>\n",
      "1\n"
     ]
    }
   ],
   "source": [
    "n = int(input())\n",
    "\n",
    "while n > 0:\n",
    "    mina = str(input())\n",
    "    diamantes = 0\n",
    "    x= 0\n",
    "    while x < len(mina):\n",
    "        \n",
    "        if mina[x] == '<':\n",
    "            k = x+1\n",
    "            while k < len(mina):\n",
    "                if mina[k] == '<':\n",
    "                    break\n",
    "                if mina[k] == '.':      \n",
    "                    pass\n",
    "                if mina[k] == '>':\n",
    "                    mina = mina[:x]+mina[k+1:]\n",
    "                    x = -1\n",
    "                    diamantes += 1\n",
    "                    break\n",
    "                k += 1\n",
    "        x +=1\n",
    "    print(diamantes)\n",
    "                \n",
    "    n -= 1"
   ]
  },
  {
   "cell_type": "markdown",
   "metadata": {},
   "source": [
    "# "
   ]
  },
  {
   "cell_type": "code",
   "execution_count": null,
   "metadata": {
    "collapsed": true
   },
   "outputs": [],
   "source": []
  }
 ],
 "metadata": {
  "kernelspec": {
   "display_name": "Python 3",
   "language": "python",
   "name": "python3"
  },
  "language_info": {
   "codemirror_mode": {
    "name": "ipython",
    "version": 3
   },
   "file_extension": ".py",
   "mimetype": "text/x-python",
   "name": "python",
   "nbconvert_exporter": "python",
   "pygments_lexer": "ipython3",
   "version": "3.5.2+"
  }
 },
 "nbformat": 4,
 "nbformat_minor": 2
}
