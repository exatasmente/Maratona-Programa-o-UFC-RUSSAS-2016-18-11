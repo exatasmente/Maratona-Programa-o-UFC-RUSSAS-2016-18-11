{
 "cells": [
  {
   "cell_type": "code",
   "execution_count": 4,
   "metadata": {
    "collapsed": false
   },
   "outputs": [
    {
     "name": "stdout",
     "output_type": "stream",
     "text": [
      "3\n",
      "101 bin\n",
      "101 dec\n",
      "8f hex\n",
      "Case 1:\n",
      "5 dec\n",
      "5 hex\n",
      "\n",
      "Case 2:\n",
      "65 hex\n",
      "1100101 bin\n",
      "\n",
      "Case 3:\n",
      "143 dec\n",
      "10001111 bin\n",
      "\n"
     ]
    }
   ],
   "source": [
    "def dec_bin(n):\n",
    "    return bin(int(n))[2::]\n",
    "def dec_hex(n):\n",
    "    return hex(int(n))[2::]\n",
    "\n",
    "def bin_dec(n):\n",
    "    return int(str(n),2)\n",
    "\n",
    "def bin_hex(n):\n",
    "    return hex(int(str(n),2))[2::]\n",
    "\n",
    "\n",
    "def hex_bin(n):\n",
    "    return bin(int(str(n),16))[2::]\n",
    "def hex_dec(n):\n",
    "    return int(str(n),16)\n",
    "\n",
    "\n",
    "n = int(input())\n",
    "res = list()\n",
    "for x in range(n):\n",
    "    res.append(input())\n",
    "x= 1\n",
    "for val in res:\n",
    "    base = val.split(' ')[1]\n",
    "    num = val.split(' ')[0]\n",
    "    if base == 'hex':\n",
    "        print(\"Case \"+str(x)+\":\")\n",
    "        print(hex_dec(num),\"dec\")\n",
    "        print(hex_bin(num),\"bin\\n\")\n",
    "\n",
    "    elif base == 'dec':\n",
    "        print(\"Case \"+str(x)+\":\")\n",
    "        print(dec_hex(num),\"hex\")\n",
    "        print(dec_bin(num),\"bin\\n\")\n",
    "\n",
    "    elif base == 'bin':\n",
    "        print(\"Case \"+str(x)+\":\")\n",
    "        print(bin_dec(num),\"dec\")\n",
    "        print(bin_hex(num),\"hex\\n\")\n",
    "    x += 1\n",
    "\n",
    "    "
   ]
  },
  {
   "cell_type": "code",
   "execution_count": null,
   "metadata": {
    "collapsed": false
   },
   "outputs": [
    {
     "name": "stdout",
     "output_type": "stream",
     "text": [
      "17\n",
      "9\n"
     ]
    }
   ],
   "source": [
    "def steps(n):\n",
    "    k = n\n",
    "    m = 1\n",
    "    last = 0\n",
    "    cont = 0\n",
    "    while k > 0 :\n",
    "        k = ( k + m )%13\n",
    "        if k == 0:\n",
    "            last = n\n",
    "        cont += 1\n",
    "    return cont\n",
    "    \n",
    "while True:\n",
    "    n = int(input())\n",
    "    if n == 0:\n",
    "        break\n",
    "    print(steps(n))\n"
   ]
  },
  {
   "cell_type": "code",
   "execution_count": 31,
   "metadata": {
    "collapsed": false
   },
   "outputs": [
    {
     "name": "stdout",
     "output_type": "stream",
     "text": [
      "1\n",
      "1001\n",
      "16 leds\n"
     ]
    }
   ],
   "source": [
    "leds = {'0' : 6 , \n",
    "        '1' : 2 , \n",
    "        '2' : 5 , \n",
    "        '3' : 5 , \n",
    "        '4' : 4 , \n",
    "        '5' : 5 , \n",
    "        '6' : 6 , \n",
    "        '7' : 3 , \n",
    "        '8' : 7 , \n",
    "        '9' : 6}\n",
    "        \n",
    "n = int(input())\n",
    "while n > 0:\n",
    "    v = list(input())\n",
    "    qtleds = 0\n",
    "    for x in v:\n",
    "        qtleds += leds[x]\n",
    "        \n",
    "    print(qtleds,\"leds\")\n",
    "    n -= 1\n",
    "    \n"
   ]
  },
  {
   "cell_type": "code",
   "execution_count": 64,
   "metadata": {
    "collapsed": false
   },
   "outputs": [
    {
     "name": "stdout",
     "output_type": "stream",
     "text": [
      "1\n",
      "100 80 90\n",
      "100 80 90\n",
      "1\n"
     ]
    }
   ],
   "source": [
    "n = int(input())\n",
    "while n > 0:\n",
    "    qt = 0\n",
    "    m = input()\n",
    "    nota = [int(x) for x in str(input()).split(' ')]\n",
    "    l = sorted(nota, key=int, reverse=True)\n",
    "    for i in range(len(nota)):\n",
    "        if nota[i] == l[i]:\n",
    "            qt +=1\n",
    "    print(qt)\n",
    "    n -= 1"
   ]
  },
  {
   "cell_type": "code",
   "execution_count": 1,
   "metadata": {
    "collapsed": false
   },
   "outputs": [
    {
     "name": "stdout",
     "output_type": "stream",
     "text": [
      "10\n",
      "10\n",
      "PROD = 20\n"
     ]
    }
   ],
   "source": [
    "print(\"PROD =\",int(input())*int(input()))"
   ]
  },
  {
   "cell_type": "code",
   "execution_count": 9,
   "metadata": {
    "collapsed": false
   },
   "outputs": [
    {
     "name": "stdout",
     "output_type": "stream",
     "text": [
      "10.0\n",
      "10.\n",
      "MEDIA = 10.0\n"
     ]
    }
   ],
   "source": [
    "print(\"MEDIA =\",float((float(input())+float(input()))/2))"
   ]
  },
  {
   "cell_type": "code",
   "execution_count": 25,
   "metadata": {
    "collapsed": false
   },
   "outputs": [
    {
     "name": "stdout",
     "output_type": "stream",
     "text": [
      "1523\n",
      "VOLUME = 14797486501.627\n"
     ]
    }
   ],
   "source": [
    "print(\"VOLUME = %.3f\"%( ( (4.0/3.0) * 3.14159 ) * (float(input())**3)) )\n",
    "\n"
   ]
  },
  {
   "cell_type": "code",
   "execution_count": 33,
   "metadata": {
    "collapsed": false
   },
   "outputs": [
    {
     "name": "stdout",
     "output_type": "stream",
     "text": [
      "217 14 6\n",
      "217 eh o maior\n"
     ]
    }
   ],
   "source": [
    "a,b,c = [int(x) for x in str(input()).split(' ')]\n",
    "if (a+b+abs(a-b))/2 > c :\n",
    "    print(\"%d eh o maior\"%((a+b+abs(a-b))/2))\n",
    "else:\n",
    "    print(\"%d eh o maior\"% c)"
   ]
  },
  {
   "cell_type": "code",
   "execution_count": 40,
   "metadata": {
    "collapsed": false
   },
   "outputs": [
    {
     "name": "stdout",
     "output_type": "stream",
     "text": [
      "10 11 12\n"
     ]
    },
    {
     "ename": "TypeError",
     "evalue": "not enough arguments for format string",
     "output_type": "error",
     "traceback": [
      "\u001b[0;31m---------------------------------------------------------------------------\u001b[0m",
      "\u001b[0;31mTypeError\u001b[0m                                 Traceback (most recent call last)",
      "\u001b[0;32m<ipython-input-40-f7c5820e1d35>\u001b[0m in \u001b[0;36m<module>\u001b[0;34m()\u001b[0m\n\u001b[1;32m      1\u001b[0m \u001b[0ma\u001b[0m\u001b[0;34m,\u001b[0m\u001b[0mb\u001b[0m\u001b[0;34m,\u001b[0m\u001b[0mc\u001b[0m \u001b[0;34m=\u001b[0m \u001b[0;34m[\u001b[0m\u001b[0mint\u001b[0m\u001b[0;34m(\u001b[0m\u001b[0mx\u001b[0m\u001b[0;34m)\u001b[0m \u001b[0;32mfor\u001b[0m \u001b[0mx\u001b[0m \u001b[0;32min\u001b[0m \u001b[0mstr\u001b[0m\u001b[0;34m(\u001b[0m\u001b[0minput\u001b[0m\u001b[0;34m(\u001b[0m\u001b[0;34m)\u001b[0m\u001b[0;34m)\u001b[0m\u001b[0;34m.\u001b[0m\u001b[0msplit\u001b[0m\u001b[0;34m(\u001b[0m\u001b[0;34m' '\u001b[0m\u001b[0;34m)\u001b[0m\u001b[0;34m]\u001b[0m\u001b[0;34m\u001b[0m\u001b[0m\n\u001b[1;32m      2\u001b[0m \u001b[0;34m\u001b[0m\u001b[0m\n\u001b[0;32m----> 3\u001b[0;31m \u001b[0mprint\u001b[0m\u001b[0;34m(\u001b[0m\u001b[0;34m\"%d\\n%d\\n%d\"\u001b[0m\u001b[0;34m%\u001b[0m\u001b[0ma\u001b[0m \u001b[0;34m%\u001b[0m\u001b[0mb\u001b[0m \u001b[0;34m%\u001b[0m\u001b[0mc\u001b[0m\u001b[0;34m)\u001b[0m\u001b[0;34m\u001b[0m\u001b[0m\n\u001b[0m",
      "\u001b[0;31mTypeError\u001b[0m: not enough arguments for format string"
     ]
    }
   ],
   "source": [
    "a,b,c = [int(x) for x in str(input()).split(' ')]\n",
    "\n",
    "print(\"%d\\n%d\\n%d\"%a %b %c)"
   ]
  },
  {
   "cell_type": "code",
   "execution_count": 98,
   "metadata": {
    "collapsed": false
   },
   "outputs": [
    {
     "name": "stdout",
     "output_type": "stream",
     "text": [
      "10 10 10 10\n",
      "0:00:00\n",
      "O JOGO DUROU 24.000000 HORA(S) E 0.000000 MINUTO(S)\n"
     ]
    }
   ],
   "source": [
    "from datetime import datetime\n",
    "h1,m1,h2,m2 = [x for x in str(input()).split(' ')]\n",
    "\n",
    "\n",
    "ti = datetime.strptime((h1+\":\"+m1), '%H:%M')\n",
    "tf = datetime.strptime((h2+\":\"+m2), '%H:%M')\n",
    "print((tf-ti))\n",
    "h = 0\n",
    "m = 0\n",
    "if str(tf-ti) == \"0:00:00\":\n",
    "    h = 24\n",
    "    m = 0\n",
    "\n",
    "print(\"O JOGO DUROU %d HORA(S)\"%h,\"E %d MINUTO(S)\"%m)"
   ]
  },
  {
   "cell_type": "code",
   "execution_count": 105,
   "metadata": {
    "collapsed": false
   },
   "outputs": [
    {
     "name": "stdout",
     "output_type": "stream",
     "text": [
      "1\n",
      "0 1\n",
      "P.Y.N.G.\n"
     ]
    }
   ],
   "source": [
    "mus ={0 :\"PROXYCITY\",\n",
    "      1 : \"P.Y.N.G.\",\n",
    "      2 : \"DNSUEY!\",\n",
    "      3 : \"SERVERS\",\n",
    "      4 : \"HOST!\",\n",
    "      5 : \"CRIPTONIZE\",\n",
    "      6 : \"OFFLINE DAY\",\n",
    "      7 : \"SALT\",\n",
    "      8 : \"ANSWER!\",\n",
    "      9 : \"RAR?\",\n",
    "      10 : \"WIFI ANTENNAS\"}\n",
    "\n",
    "n = int(input())\n",
    "while n > 0:\n",
    "    a,b,*c = [x for x in str(input()).split(' ')]\n",
    "    print(mus[int(a)+int(b)])\n",
    "    n -= 1"
   ]
  },
  {
   "cell_type": "code",
   "execution_count": 112,
   "metadata": {
    "collapsed": false
   },
   "outputs": [
    {
     "name": "stdout",
     "output_type": "stream",
     "text": [
      "1\n",
      "3\n",
      "* * 6 5\n",
      "*\n",
      "3\n"
     ]
    }
   ],
   "source": [
    "n = int(input())\n",
    "dado = {1:[\" \",6],\n",
    "        2:[\" \",5],\n",
    "        3:[\" \",4],\n",
    "        4:[\" \",3],\n",
    "        5:[\" \",2],\n",
    "        6:[\" \",1]}\n",
    "while n > 0 :\n",
    "    pos = 0\n",
    "    dado[3][0] = input()\n",
    "    dado[1][0],dado[2][0],dado[6][0],dado[5][0] = [x for x in str(input()).split(' ')]\n",
    "    dado[4][0] = input()\n",
    "    \n",
    "    for x in dado:\n",
    "        if dado[x][0] == '*':\n",
    "            pos +=1\n",
    "            if dado[dado[x][1]] == '*':\n",
    "                pos+=1\n",
    "    n -= 1\n",
    "    print(pos)\n",
    "\n"
   ]
  },
  {
   "cell_type": "code",
   "execution_count": 143,
   "metadata": {
    "collapsed": false
   },
   "outputs": [
    {
     "name": "stdout",
     "output_type": "stream",
     "text": [
      "10\n",
      "1\n",
      "1 nao eh primo\n",
      "2\n",
      "2 eh primo\n",
      "3\n",
      "3 eh primo\n",
      "4\n",
      "4 nao eh primo\n",
      "5\n",
      "5 eh primo\n",
      "6\n",
      "6 nao eh primo\n",
      "161\n",
      "161 nao eh primo\n",
      "1000\n",
      "1000 nao eh primo\n",
      "234\n",
      "234 nao eh primo\n",
      "243567\n",
      "243567 nao eh primo\n"
     ]
    }
   ],
   "source": [
    "n = int(input())\n",
    "def gen_primes():\n",
    "    n = 2\n",
    "    primes = set()\n",
    "    while True:\n",
    "        for p in primes:\n",
    "            if n % p == 0:\n",
    "                break\n",
    "        else:\n",
    "            primes.add(n)\n",
    "            yield n\n",
    "        n += 1\n",
    "        \n",
    "p = gen_primes()\n",
    "def ehprimo(n,m):\n",
    "    if n < 2:\n",
    "        return str(n)+\" nao eh primo\"\n",
    "    if n in [2,3,5,7,11]:\n",
    "        return str(n)+\" eh primo\"\n",
    "    \n",
    "    div = n//m\n",
    "    res = n%m\n",
    "    if res == 0:\n",
    "        return str(n)+\" nao eh primo\"\n",
    "    if div > m :\n",
    "        return ehprimo(n,next(p))\n",
    "    else:\n",
    "        return str(n)+\" eh primo\"\n",
    "while n > 0:\n",
    "    x = int(input())\n",
    "    p = gen_primes()    \n",
    "    print(ehprimo(x,next(p)))\n",
    "    n -= 1"
   ]
  },
  {
   "cell_type": "code",
   "execution_count": 145,
   "metadata": {
    "collapsed": false
   },
   "outputs": [
    {
     "name": "stdout",
     "output_type": "stream",
     "text": [
      "7\n",
      "8\n",
      "1\n",
      "1\n",
      "1\n",
      "4\n",
      "MUITO OBRIGADO\n",
      "Alcool: 3\n",
      "Gasolina: 0\n",
      "Diesel: 0\n"
     ]
    }
   ],
   "source": [
    "n = -1\n",
    "tipos = {1:0,2:0,3:0}\n",
    "while n != 4:\n",
    "    n = int(input())\n",
    "    if n < 4:\n",
    "        tipos[n] += 1\n",
    "    \n",
    "print(\"MUITO OBRIGADO\")\n",
    "print(\"Alcool:\",tipos[1])\n",
    "print(\"Gasolina:\",tipos[2])\n",
    "print(\"Diesel:\",tipos[3])"
   ]
  },
  {
   "cell_type": "code",
   "execution_count": 156,
   "metadata": {
    "collapsed": false
   },
   "outputs": [
    {
     "name": "stdout",
     "output_type": "stream",
     "text": [
      "7\n",
      "1 2 3 PUM\n",
      "5 6 7 PUM\n",
      "9 10 11 PUM\n",
      "13 14 15 PUM\n",
      "17 18 19 PUM\n",
      "21 22 23 PUM\n",
      "25 26 27 PUM\n"
     ]
    }
   ],
   "source": [
    "n = int(input())\n",
    "\n",
    "    \n",
    "i = 1\n",
    "f = 4\n",
    "while n > 0 :\n",
    "    \n",
    "    p = [x for x in range(i,f)]\n",
    "    i = f+1\n",
    "    f = f+4\n",
    "    print(p[0],p[1],p[2],\"PUM\")    \n",
    "    n -= 1"
   ]
  },
  {
   "cell_type": "code",
   "execution_count": 171,
   "metadata": {
    "collapsed": false
   },
   "outputs": [
    {
     "name": "stdout",
     "output_type": "stream",
     "text": [
      "3\n",
      "259 111\n",
      "37\n",
      "9 27\n",
      "9\n",
      "8 12\n",
      "4\n"
     ]
    }
   ],
   "source": [
    "c = int(input())\n",
    "while c > 0:\n",
    "    n,m = [int(x) for x in str(input()).split(' ')]\n",
    "    divisor  = max([m,n]) \n",
    "    while divisor >= 2:\n",
    "        if n % divisor == 0 and m % divisor == 0:\n",
    "            mdc = divisor\n",
    "            break\n",
    "        divisor -= 1 \n",
    "    print(mdc)\n",
    "    c -= 1"
   ]
  },
  {
   "cell_type": "code",
   "execution_count": null,
   "metadata": {
    "collapsed": true
   },
   "outputs": [],
   "source": []
  }
 ],
 "metadata": {
  "kernelspec": {
   "display_name": "Python 3",
   "language": "python",
   "name": "python3"
  },
  "language_info": {
   "codemirror_mode": {
    "name": "ipython",
    "version": 3
   },
   "file_extension": ".py",
   "mimetype": "text/x-python",
   "name": "python",
   "nbconvert_exporter": "python",
   "pygments_lexer": "ipython3",
   "version": "3.5.2+"
  }
 },
 "nbformat": 4,
 "nbformat_minor": 2
}
